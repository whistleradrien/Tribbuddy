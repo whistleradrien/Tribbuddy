{
 "cells": [
  {
   "cell_type": "code",
   "execution_count": 1,
   "id": "6841df73-820e-466b-9e1f-adc31792783c",
   "metadata": {},
   "outputs": [],
   "source": [
    "%load_ext autoreload\n",
    "%autoreload 2"
   ]
  },
  {
   "cell_type": "code",
   "execution_count": 31,
   "id": "c312891d-197f-4657-be4c-03c5db23b131",
   "metadata": {},
   "outputs": [],
   "source": [
    "import app_module as am\n",
    "import forallpeople as us\n",
    "us.environment('structural')"
   ]
  },
  {
   "cell_type": "code",
   "execution_count": 109,
   "id": "1cb1dbfc-bf8b-454f-aa54-7ce8323d270a",
   "metadata": {
    "tags": []
   },
   "outputs": [
    {
     "data": {
      "text/html": [
       "<div>\n",
       "<style scoped>\n",
       "    .dataframe tbody tr th:only-of-type {\n",
       "        vertical-align: middle;\n",
       "    }\n",
       "\n",
       "    .dataframe tbody tr th {\n",
       "        vertical-align: top;\n",
       "    }\n",
       "\n",
       "    .dataframe thead th {\n",
       "        text-align: right;\n",
       "    }\n",
       "</style>\n",
       "<table border=\"1\" class=\"dataframe\">\n",
       "  <thead>\n",
       "    <tr style=\"text-align: right;\">\n",
       "      <th></th>\n",
       "      <th>Material</th>\n",
       "      <th>Width</th>\n",
       "      <th>Depth</th>\n",
       "      <th>Factored Moment Resistance (ft-lbs)</th>\n",
       "      <th>Factored Shear Resistance (lbs)</th>\n",
       "      <th>Moment of Inertia (in.4)</th>\n",
       "      <th>Weight (plf)</th>\n",
       "      <th>Modulus of Elasticity (psi)</th>\n",
       "      <th>Apparent Modulus of Elasticity (psi)</th>\n",
       "      <th>Compression Perpendicular to Grain (psi)</th>\n",
       "      <th>Horizontal Shear Parallel to Grain (psi)</th>\n",
       "    </tr>\n",
       "    <tr>\n",
       "      <th>Name</th>\n",
       "      <th></th>\n",
       "      <th></th>\n",
       "      <th></th>\n",
       "      <th></th>\n",
       "      <th></th>\n",
       "      <th></th>\n",
       "      <th></th>\n",
       "      <th></th>\n",
       "      <th></th>\n",
       "      <th></th>\n",
       "      <th></th>\n",
       "    </tr>\n",
       "  </thead>\n",
       "  <tbody>\n",
       "    <tr>\n",
       "      <th>1.75x9.5 LSL</th>\n",
       "      <td>LSL</td>\n",
       "      <td>1.75</td>\n",
       "      <td>9.500</td>\n",
       "      <td>8665</td>\n",
       "      <td>5735</td>\n",
       "      <td>125</td>\n",
       "      <td>5</td>\n",
       "      <td>1550000</td>\n",
       "      <td>1497000</td>\n",
       "      <td>1635</td>\n",
       "      <td>575</td>\n",
       "    </tr>\n",
       "    <tr>\n",
       "      <th>1.75x11.875 LSL</th>\n",
       "      <td>LSL</td>\n",
       "      <td>1.75</td>\n",
       "      <td>11.875</td>\n",
       "      <td>13260</td>\n",
       "      <td>7170</td>\n",
       "      <td>244</td>\n",
       "      <td>7</td>\n",
       "      <td>1550000</td>\n",
       "      <td>1550000</td>\n",
       "      <td>1635</td>\n",
       "      <td>575</td>\n",
       "    </tr>\n",
       "    <tr>\n",
       "      <th>1.75x14 LSL</th>\n",
       "      <td>LSL</td>\n",
       "      <td>1.75</td>\n",
       "      <td>14.000</td>\n",
       "      <td>18155</td>\n",
       "      <td>8455</td>\n",
       "      <td>400</td>\n",
       "      <td>8</td>\n",
       "      <td>1550000</td>\n",
       "      <td>1550000</td>\n",
       "      <td>1635</td>\n",
       "      <td>575</td>\n",
       "    </tr>\n",
       "    <tr>\n",
       "      <th>1.75x16 LSL</th>\n",
       "      <td>LSL</td>\n",
       "      <td>1.75</td>\n",
       "      <td>16.000</td>\n",
       "      <td>23425</td>\n",
       "      <td>9660</td>\n",
       "      <td>597</td>\n",
       "      <td>9</td>\n",
       "      <td>1550000</td>\n",
       "      <td>1550000</td>\n",
       "      <td>1635</td>\n",
       "      <td>575</td>\n",
       "    </tr>\n",
       "    <tr>\n",
       "      <th>1.75x5.25 LVL</th>\n",
       "      <td>LVL</td>\n",
       "      <td>1.75</td>\n",
       "      <td>5.250</td>\n",
       "      <td>3535</td>\n",
       "      <td>3060</td>\n",
       "      <td>24</td>\n",
       "      <td>3</td>\n",
       "      <td>2000000</td>\n",
       "      <td>1932000</td>\n",
       "      <td>1365</td>\n",
       "      <td>530</td>\n",
       "    </tr>\n",
       "    <tr>\n",
       "      <th>1.75x5.25.1 LVL</th>\n",
       "      <td>LVL</td>\n",
       "      <td>1.75</td>\n",
       "      <td>5.250</td>\n",
       "      <td>5915</td>\n",
       "      <td>4035</td>\n",
       "      <td>56</td>\n",
       "      <td>4</td>\n",
       "      <td>2000000</td>\n",
       "      <td>1932000</td>\n",
       "      <td>1365</td>\n",
       "      <td>530</td>\n",
       "    </tr>\n",
       "    <tr>\n",
       "      <th>1.75x9.25 LVL</th>\n",
       "      <td>LVL</td>\n",
       "      <td>1.75</td>\n",
       "      <td>9.250</td>\n",
       "      <td>9315</td>\n",
       "      <td>5150</td>\n",
       "      <td>115</td>\n",
       "      <td>5</td>\n",
       "      <td>2000000</td>\n",
       "      <td>1932000</td>\n",
       "      <td>1365</td>\n",
       "      <td>530</td>\n",
       "    </tr>\n",
       "    <tr>\n",
       "      <th>1.75x9.5 LVL</th>\n",
       "      <td>LVL</td>\n",
       "      <td>1.75</td>\n",
       "      <td>9.500</td>\n",
       "      <td>9790</td>\n",
       "      <td>5285</td>\n",
       "      <td>125</td>\n",
       "      <td>5</td>\n",
       "      <td>2000000</td>\n",
       "      <td>1932000</td>\n",
       "      <td>1365</td>\n",
       "      <td>530</td>\n",
       "    </tr>\n",
       "    <tr>\n",
       "      <th>1.75x11.25 LVL</th>\n",
       "      <td>LVL</td>\n",
       "      <td>1.75</td>\n",
       "      <td>11.250</td>\n",
       "      <td>13420</td>\n",
       "      <td>6260</td>\n",
       "      <td>208</td>\n",
       "      <td>6</td>\n",
       "      <td>2000000</td>\n",
       "      <td>1932000</td>\n",
       "      <td>1365</td>\n",
       "      <td>530</td>\n",
       "    </tr>\n",
       "    <tr>\n",
       "      <th>1.75x11.875 LVL</th>\n",
       "      <td>LVL</td>\n",
       "      <td>1.75</td>\n",
       "      <td>11.875</td>\n",
       "      <td>14845</td>\n",
       "      <td>6610</td>\n",
       "      <td>244</td>\n",
       "      <td>6</td>\n",
       "      <td>2000000</td>\n",
       "      <td>1932000</td>\n",
       "      <td>1365</td>\n",
       "      <td>530</td>\n",
       "    </tr>\n",
       "    <tr>\n",
       "      <th>1.75x14 LVL</th>\n",
       "      <td>LVL</td>\n",
       "      <td>1.75</td>\n",
       "      <td>14.000</td>\n",
       "      <td>20175</td>\n",
       "      <td>7790</td>\n",
       "      <td>400</td>\n",
       "      <td>7</td>\n",
       "      <td>2000000</td>\n",
       "      <td>1932000</td>\n",
       "      <td>1365</td>\n",
       "      <td>530</td>\n",
       "    </tr>\n",
       "    <tr>\n",
       "      <th>1.75x16 LVL</th>\n",
       "      <td>LVL</td>\n",
       "      <td>1.75</td>\n",
       "      <td>16.000</td>\n",
       "      <td>25875</td>\n",
       "      <td>8905</td>\n",
       "      <td>597</td>\n",
       "      <td>8</td>\n",
       "      <td>2000000</td>\n",
       "      <td>1932000</td>\n",
       "      <td>1365</td>\n",
       "      <td>530</td>\n",
       "    </tr>\n",
       "    <tr>\n",
       "      <th>1.75x18 LVL</th>\n",
       "      <td>LVL</td>\n",
       "      <td>1.75</td>\n",
       "      <td>18.000</td>\n",
       "      <td>32230</td>\n",
       "      <td>10015</td>\n",
       "      <td>851</td>\n",
       "      <td>9</td>\n",
       "      <td>2000000</td>\n",
       "      <td>1932000</td>\n",
       "      <td>1365</td>\n",
       "      <td>530</td>\n",
       "    </tr>\n",
       "    <tr>\n",
       "      <th>1.75x20 LVL</th>\n",
       "      <td>LVL</td>\n",
       "      <td>1.75</td>\n",
       "      <td>20.000</td>\n",
       "      <td>39220</td>\n",
       "      <td>11130</td>\n",
       "      <td>1167</td>\n",
       "      <td>10</td>\n",
       "      <td>2000000</td>\n",
       "      <td>1932000</td>\n",
       "      <td>1365</td>\n",
       "      <td>530</td>\n",
       "    </tr>\n",
       "    <tr>\n",
       "      <th>3.5x9.25 PSL</th>\n",
       "      <td>PSL</td>\n",
       "      <td>3.50</td>\n",
       "      <td>9.250</td>\n",
       "      <td>20655</td>\n",
       "      <td>10490</td>\n",
       "      <td>231</td>\n",
       "      <td>10</td>\n",
       "      <td>2200000</td>\n",
       "      <td>2126000</td>\n",
       "      <td>1135</td>\n",
       "      <td>540</td>\n",
       "    </tr>\n",
       "    <tr>\n",
       "      <th>3.5x9.5 PSL</th>\n",
       "      <td>PSL</td>\n",
       "      <td>3.50</td>\n",
       "      <td>9.500</td>\n",
       "      <td>21720</td>\n",
       "      <td>10775</td>\n",
       "      <td>250</td>\n",
       "      <td>10</td>\n",
       "      <td>2200000</td>\n",
       "      <td>2126000</td>\n",
       "      <td>1135</td>\n",
       "      <td>540</td>\n",
       "    </tr>\n",
       "    <tr>\n",
       "      <th>3.5x11.25 PSL</th>\n",
       "      <td>PSL</td>\n",
       "      <td>3.50</td>\n",
       "      <td>11.250</td>\n",
       "      <td>29890</td>\n",
       "      <td>12760</td>\n",
       "      <td>415</td>\n",
       "      <td>12</td>\n",
       "      <td>2200000</td>\n",
       "      <td>2126000</td>\n",
       "      <td>1135</td>\n",
       "      <td>540</td>\n",
       "    </tr>\n",
       "    <tr>\n",
       "      <th>3.5x11.875 PSL</th>\n",
       "      <td>PSL</td>\n",
       "      <td>3.50</td>\n",
       "      <td>11.875</td>\n",
       "      <td>33105</td>\n",
       "      <td>13465</td>\n",
       "      <td>488</td>\n",
       "      <td>13</td>\n",
       "      <td>2200000</td>\n",
       "      <td>2126000</td>\n",
       "      <td>1135</td>\n",
       "      <td>540</td>\n",
       "    </tr>\n",
       "    <tr>\n",
       "      <th>3.5x14 PSL</th>\n",
       "      <td>PSL</td>\n",
       "      <td>3.50</td>\n",
       "      <td>14.000</td>\n",
       "      <td>45180</td>\n",
       "      <td>15875</td>\n",
       "      <td>800</td>\n",
       "      <td>15</td>\n",
       "      <td>2200000</td>\n",
       "      <td>2126000</td>\n",
       "      <td>1135</td>\n",
       "      <td>540</td>\n",
       "    </tr>\n",
       "    <tr>\n",
       "      <th>3.5x16 PSL</th>\n",
       "      <td>PSL</td>\n",
       "      <td>3.50</td>\n",
       "      <td>16.000</td>\n",
       "      <td>58145</td>\n",
       "      <td>18145</td>\n",
       "      <td>1195</td>\n",
       "      <td>18</td>\n",
       "      <td>2200000</td>\n",
       "      <td>2126000</td>\n",
       "      <td>1135</td>\n",
       "      <td>540</td>\n",
       "    </tr>\n",
       "    <tr>\n",
       "      <th>3.5x19 PSL</th>\n",
       "      <td>PSL</td>\n",
       "      <td>3.50</td>\n",
       "      <td>19.000</td>\n",
       "      <td>80445</td>\n",
       "      <td>21545</td>\n",
       "      <td>2001</td>\n",
       "      <td>21</td>\n",
       "      <td>2200000</td>\n",
       "      <td>2126000</td>\n",
       "      <td>1135</td>\n",
       "      <td>540</td>\n",
       "    </tr>\n",
       "    <tr>\n",
       "      <th>5.25x9.25 PSL</th>\n",
       "      <td>PSL</td>\n",
       "      <td>5.25</td>\n",
       "      <td>9.250</td>\n",
       "      <td>30980</td>\n",
       "      <td>15735</td>\n",
       "      <td>346</td>\n",
       "      <td>15</td>\n",
       "      <td>2200000</td>\n",
       "      <td>2126000</td>\n",
       "      <td>1135</td>\n",
       "      <td>540</td>\n",
       "    </tr>\n",
       "    <tr>\n",
       "      <th>5.25x9.5 PSL</th>\n",
       "      <td>PSL</td>\n",
       "      <td>5.25</td>\n",
       "      <td>9.500</td>\n",
       "      <td>32580</td>\n",
       "      <td>16160</td>\n",
       "      <td>375</td>\n",
       "      <td>16</td>\n",
       "      <td>2200000</td>\n",
       "      <td>2126000</td>\n",
       "      <td>1135</td>\n",
       "      <td>540</td>\n",
       "    </tr>\n",
       "    <tr>\n",
       "      <th>5.25x11.25 PSL</th>\n",
       "      <td>PSL</td>\n",
       "      <td>5.25</td>\n",
       "      <td>11.250</td>\n",
       "      <td>44840</td>\n",
       "      <td>19135</td>\n",
       "      <td>623</td>\n",
       "      <td>19</td>\n",
       "      <td>2200000</td>\n",
       "      <td>2126000</td>\n",
       "      <td>1135</td>\n",
       "      <td>540</td>\n",
       "    </tr>\n",
       "    <tr>\n",
       "      <th>5.25x11.875 PSL</th>\n",
       "      <td>PSL</td>\n",
       "      <td>5.25</td>\n",
       "      <td>11.875</td>\n",
       "      <td>49660</td>\n",
       "      <td>20200</td>\n",
       "      <td>733</td>\n",
       "      <td>20</td>\n",
       "      <td>2200000</td>\n",
       "      <td>2126000</td>\n",
       "      <td>1135</td>\n",
       "      <td>540</td>\n",
       "    </tr>\n",
       "    <tr>\n",
       "      <th>5.25x14 PSL</th>\n",
       "      <td>PSL</td>\n",
       "      <td>5.25</td>\n",
       "      <td>14.000</td>\n",
       "      <td>67775</td>\n",
       "      <td>23815</td>\n",
       "      <td>1201</td>\n",
       "      <td>23</td>\n",
       "      <td>2200000</td>\n",
       "      <td>2126000</td>\n",
       "      <td>1135</td>\n",
       "      <td>540</td>\n",
       "    </tr>\n",
       "    <tr>\n",
       "      <th>5.25x16 PSL</th>\n",
       "      <td>PSL</td>\n",
       "      <td>5.25</td>\n",
       "      <td>16.000</td>\n",
       "      <td>87220</td>\n",
       "      <td>27215</td>\n",
       "      <td>1792</td>\n",
       "      <td>26</td>\n",
       "      <td>2200000</td>\n",
       "      <td>2126000</td>\n",
       "      <td>1135</td>\n",
       "      <td>540</td>\n",
       "    </tr>\n",
       "    <tr>\n",
       "      <th>5.25x19 PSL</th>\n",
       "      <td>PSL</td>\n",
       "      <td>5.25</td>\n",
       "      <td>19.000</td>\n",
       "      <td>120665</td>\n",
       "      <td>32320</td>\n",
       "      <td>3001</td>\n",
       "      <td>31</td>\n",
       "      <td>2200000</td>\n",
       "      <td>2126000</td>\n",
       "      <td>1135</td>\n",
       "      <td>540</td>\n",
       "    </tr>\n",
       "    <tr>\n",
       "      <th>7x9.25 PSL</th>\n",
       "      <td>PSL</td>\n",
       "      <td>7.00</td>\n",
       "      <td>9.250</td>\n",
       "      <td>41305</td>\n",
       "      <td>20980</td>\n",
       "      <td>462</td>\n",
       "      <td>20</td>\n",
       "      <td>2200000</td>\n",
       "      <td>2126000</td>\n",
       "      <td>1135</td>\n",
       "      <td>540</td>\n",
       "    </tr>\n",
       "    <tr>\n",
       "      <th>7x9.5 PSL</th>\n",
       "      <td>PSL</td>\n",
       "      <td>7.00</td>\n",
       "      <td>9.500</td>\n",
       "      <td>43440</td>\n",
       "      <td>21545</td>\n",
       "      <td>500</td>\n",
       "      <td>21</td>\n",
       "      <td>2200000</td>\n",
       "      <td>2126000</td>\n",
       "      <td>1135</td>\n",
       "      <td>540</td>\n",
       "    </tr>\n",
       "    <tr>\n",
       "      <th>7x11.25 PSL</th>\n",
       "      <td>PSL</td>\n",
       "      <td>7.00</td>\n",
       "      <td>11.250</td>\n",
       "      <td>59785</td>\n",
       "      <td>25515</td>\n",
       "      <td>831</td>\n",
       "      <td>25</td>\n",
       "      <td>2200000</td>\n",
       "      <td>2126000</td>\n",
       "      <td>1135</td>\n",
       "      <td>540</td>\n",
       "    </tr>\n",
       "    <tr>\n",
       "      <th>7x11.875 PSL</th>\n",
       "      <td>PSL</td>\n",
       "      <td>7.00</td>\n",
       "      <td>11.875</td>\n",
       "      <td>66215</td>\n",
       "      <td>26935</td>\n",
       "      <td>977</td>\n",
       "      <td>26</td>\n",
       "      <td>2200000</td>\n",
       "      <td>2126000</td>\n",
       "      <td>1135</td>\n",
       "      <td>540</td>\n",
       "    </tr>\n",
       "    <tr>\n",
       "      <th>7x14 PSL</th>\n",
       "      <td>PSL</td>\n",
       "      <td>7.00</td>\n",
       "      <td>14.000</td>\n",
       "      <td>90365</td>\n",
       "      <td>31750</td>\n",
       "      <td>1601</td>\n",
       "      <td>31</td>\n",
       "      <td>2200000</td>\n",
       "      <td>2126000</td>\n",
       "      <td>1135</td>\n",
       "      <td>540</td>\n",
       "    </tr>\n",
       "    <tr>\n",
       "      <th>7x16 PSL</th>\n",
       "      <td>PSL</td>\n",
       "      <td>7.00</td>\n",
       "      <td>16.000</td>\n",
       "      <td>116290</td>\n",
       "      <td>36290</td>\n",
       "      <td>2389</td>\n",
       "      <td>35</td>\n",
       "      <td>2200000</td>\n",
       "      <td>2126000</td>\n",
       "      <td>1135</td>\n",
       "      <td>540</td>\n",
       "    </tr>\n",
       "    <tr>\n",
       "      <th>7x19 PSL</th>\n",
       "      <td>PSL</td>\n",
       "      <td>7.00</td>\n",
       "      <td>19.000</td>\n",
       "      <td>160890</td>\n",
       "      <td>43090</td>\n",
       "      <td>4001</td>\n",
       "      <td>42</td>\n",
       "      <td>2200000</td>\n",
       "      <td>2126000</td>\n",
       "      <td>1135</td>\n",
       "      <td>540</td>\n",
       "    </tr>\n",
       "  </tbody>\n",
       "</table>\n",
       "</div>"
      ],
      "text/plain": [
       "                Material  Width   Depth  Factored Moment Resistance (ft-lbs)  \\\n",
       "Name                                                                           \n",
       "1.75x9.5 LSL         LSL   1.75   9.500                                 8665   \n",
       "1.75x11.875 LSL      LSL   1.75  11.875                                13260   \n",
       "1.75x14 LSL          LSL   1.75  14.000                                18155   \n",
       "1.75x16 LSL          LSL   1.75  16.000                                23425   \n",
       "1.75x5.25 LVL        LVL   1.75   5.250                                 3535   \n",
       "1.75x5.25.1 LVL      LVL   1.75   5.250                                 5915   \n",
       "1.75x9.25 LVL        LVL   1.75   9.250                                 9315   \n",
       "1.75x9.5 LVL         LVL   1.75   9.500                                 9790   \n",
       "1.75x11.25 LVL       LVL   1.75  11.250                                13420   \n",
       "1.75x11.875 LVL      LVL   1.75  11.875                                14845   \n",
       "1.75x14 LVL          LVL   1.75  14.000                                20175   \n",
       "1.75x16 LVL          LVL   1.75  16.000                                25875   \n",
       "1.75x18 LVL          LVL   1.75  18.000                                32230   \n",
       "1.75x20 LVL          LVL   1.75  20.000                                39220   \n",
       "3.5x9.25 PSL         PSL   3.50   9.250                                20655   \n",
       "3.5x9.5 PSL          PSL   3.50   9.500                                21720   \n",
       "3.5x11.25 PSL        PSL   3.50  11.250                                29890   \n",
       "3.5x11.875 PSL       PSL   3.50  11.875                                33105   \n",
       "3.5x14 PSL           PSL   3.50  14.000                                45180   \n",
       "3.5x16 PSL           PSL   3.50  16.000                                58145   \n",
       "3.5x19 PSL           PSL   3.50  19.000                                80445   \n",
       "5.25x9.25 PSL        PSL   5.25   9.250                                30980   \n",
       "5.25x9.5 PSL         PSL   5.25   9.500                                32580   \n",
       "5.25x11.25 PSL       PSL   5.25  11.250                                44840   \n",
       "5.25x11.875 PSL      PSL   5.25  11.875                                49660   \n",
       "5.25x14 PSL          PSL   5.25  14.000                                67775   \n",
       "5.25x16 PSL          PSL   5.25  16.000                                87220   \n",
       "5.25x19 PSL          PSL   5.25  19.000                               120665   \n",
       "7x9.25 PSL           PSL   7.00   9.250                                41305   \n",
       "7x9.5 PSL            PSL   7.00   9.500                                43440   \n",
       "7x11.25 PSL          PSL   7.00  11.250                                59785   \n",
       "7x11.875 PSL         PSL   7.00  11.875                                66215   \n",
       "7x14 PSL             PSL   7.00  14.000                                90365   \n",
       "7x16 PSL             PSL   7.00  16.000                               116290   \n",
       "7x19 PSL             PSL   7.00  19.000                               160890   \n",
       "\n",
       "                 Factored Shear Resistance (lbs)  Moment of Inertia (in.4)  \\\n",
       "Name                                                                         \n",
       "1.75x9.5 LSL                                5735                       125   \n",
       "1.75x11.875 LSL                             7170                       244   \n",
       "1.75x14 LSL                                 8455                       400   \n",
       "1.75x16 LSL                                 9660                       597   \n",
       "1.75x5.25 LVL                               3060                        24   \n",
       "1.75x5.25.1 LVL                             4035                        56   \n",
       "1.75x9.25 LVL                               5150                       115   \n",
       "1.75x9.5 LVL                                5285                       125   \n",
       "1.75x11.25 LVL                              6260                       208   \n",
       "1.75x11.875 LVL                             6610                       244   \n",
       "1.75x14 LVL                                 7790                       400   \n",
       "1.75x16 LVL                                 8905                       597   \n",
       "1.75x18 LVL                                10015                       851   \n",
       "1.75x20 LVL                                11130                      1167   \n",
       "3.5x9.25 PSL                               10490                       231   \n",
       "3.5x9.5 PSL                                10775                       250   \n",
       "3.5x11.25 PSL                              12760                       415   \n",
       "3.5x11.875 PSL                             13465                       488   \n",
       "3.5x14 PSL                                 15875                       800   \n",
       "3.5x16 PSL                                 18145                      1195   \n",
       "3.5x19 PSL                                 21545                      2001   \n",
       "5.25x9.25 PSL                              15735                       346   \n",
       "5.25x9.5 PSL                               16160                       375   \n",
       "5.25x11.25 PSL                             19135                       623   \n",
       "5.25x11.875 PSL                            20200                       733   \n",
       "5.25x14 PSL                                23815                      1201   \n",
       "5.25x16 PSL                                27215                      1792   \n",
       "5.25x19 PSL                                32320                      3001   \n",
       "7x9.25 PSL                                 20980                       462   \n",
       "7x9.5 PSL                                  21545                       500   \n",
       "7x11.25 PSL                                25515                       831   \n",
       "7x11.875 PSL                               26935                       977   \n",
       "7x14 PSL                                   31750                      1601   \n",
       "7x16 PSL                                   36290                      2389   \n",
       "7x19 PSL                                   43090                      4001   \n",
       "\n",
       "                 Weight (plf)  Modulus of Elasticity (psi)  \\\n",
       "Name                                                         \n",
       "1.75x9.5 LSL                5                      1550000   \n",
       "1.75x11.875 LSL             7                      1550000   \n",
       "1.75x14 LSL                 8                      1550000   \n",
       "1.75x16 LSL                 9                      1550000   \n",
       "1.75x5.25 LVL               3                      2000000   \n",
       "1.75x5.25.1 LVL             4                      2000000   \n",
       "1.75x9.25 LVL               5                      2000000   \n",
       "1.75x9.5 LVL                5                      2000000   \n",
       "1.75x11.25 LVL              6                      2000000   \n",
       "1.75x11.875 LVL             6                      2000000   \n",
       "1.75x14 LVL                 7                      2000000   \n",
       "1.75x16 LVL                 8                      2000000   \n",
       "1.75x18 LVL                 9                      2000000   \n",
       "1.75x20 LVL                10                      2000000   \n",
       "3.5x9.25 PSL               10                      2200000   \n",
       "3.5x9.5 PSL                10                      2200000   \n",
       "3.5x11.25 PSL              12                      2200000   \n",
       "3.5x11.875 PSL             13                      2200000   \n",
       "3.5x14 PSL                 15                      2200000   \n",
       "3.5x16 PSL                 18                      2200000   \n",
       "3.5x19 PSL                 21                      2200000   \n",
       "5.25x9.25 PSL              15                      2200000   \n",
       "5.25x9.5 PSL               16                      2200000   \n",
       "5.25x11.25 PSL             19                      2200000   \n",
       "5.25x11.875 PSL            20                      2200000   \n",
       "5.25x14 PSL                23                      2200000   \n",
       "5.25x16 PSL                26                      2200000   \n",
       "5.25x19 PSL                31                      2200000   \n",
       "7x9.25 PSL                 20                      2200000   \n",
       "7x9.5 PSL                  21                      2200000   \n",
       "7x11.25 PSL                25                      2200000   \n",
       "7x11.875 PSL               26                      2200000   \n",
       "7x14 PSL                   31                      2200000   \n",
       "7x16 PSL                   35                      2200000   \n",
       "7x19 PSL                   42                      2200000   \n",
       "\n",
       "                 Apparent Modulus of Elasticity (psi)  \\\n",
       "Name                                                    \n",
       "1.75x9.5 LSL                                  1497000   \n",
       "1.75x11.875 LSL                               1550000   \n",
       "1.75x14 LSL                                   1550000   \n",
       "1.75x16 LSL                                   1550000   \n",
       "1.75x5.25 LVL                                 1932000   \n",
       "1.75x5.25.1 LVL                               1932000   \n",
       "1.75x9.25 LVL                                 1932000   \n",
       "1.75x9.5 LVL                                  1932000   \n",
       "1.75x11.25 LVL                                1932000   \n",
       "1.75x11.875 LVL                               1932000   \n",
       "1.75x14 LVL                                   1932000   \n",
       "1.75x16 LVL                                   1932000   \n",
       "1.75x18 LVL                                   1932000   \n",
       "1.75x20 LVL                                   1932000   \n",
       "3.5x9.25 PSL                                  2126000   \n",
       "3.5x9.5 PSL                                   2126000   \n",
       "3.5x11.25 PSL                                 2126000   \n",
       "3.5x11.875 PSL                                2126000   \n",
       "3.5x14 PSL                                    2126000   \n",
       "3.5x16 PSL                                    2126000   \n",
       "3.5x19 PSL                                    2126000   \n",
       "5.25x9.25 PSL                                 2126000   \n",
       "5.25x9.5 PSL                                  2126000   \n",
       "5.25x11.25 PSL                                2126000   \n",
       "5.25x11.875 PSL                               2126000   \n",
       "5.25x14 PSL                                   2126000   \n",
       "5.25x16 PSL                                   2126000   \n",
       "5.25x19 PSL                                   2126000   \n",
       "7x9.25 PSL                                    2126000   \n",
       "7x9.5 PSL                                     2126000   \n",
       "7x11.25 PSL                                   2126000   \n",
       "7x11.875 PSL                                  2126000   \n",
       "7x14 PSL                                      2126000   \n",
       "7x16 PSL                                      2126000   \n",
       "7x19 PSL                                      2126000   \n",
       "\n",
       "                 Compression Perpendicular to Grain (psi)  \\\n",
       "Name                                                        \n",
       "1.75x9.5 LSL                                         1635   \n",
       "1.75x11.875 LSL                                      1635   \n",
       "1.75x14 LSL                                          1635   \n",
       "1.75x16 LSL                                          1635   \n",
       "1.75x5.25 LVL                                        1365   \n",
       "1.75x5.25.1 LVL                                      1365   \n",
       "1.75x9.25 LVL                                        1365   \n",
       "1.75x9.5 LVL                                         1365   \n",
       "1.75x11.25 LVL                                       1365   \n",
       "1.75x11.875 LVL                                      1365   \n",
       "1.75x14 LVL                                          1365   \n",
       "1.75x16 LVL                                          1365   \n",
       "1.75x18 LVL                                          1365   \n",
       "1.75x20 LVL                                          1365   \n",
       "3.5x9.25 PSL                                         1135   \n",
       "3.5x9.5 PSL                                          1135   \n",
       "3.5x11.25 PSL                                        1135   \n",
       "3.5x11.875 PSL                                       1135   \n",
       "3.5x14 PSL                                           1135   \n",
       "3.5x16 PSL                                           1135   \n",
       "3.5x19 PSL                                           1135   \n",
       "5.25x9.25 PSL                                        1135   \n",
       "5.25x9.5 PSL                                         1135   \n",
       "5.25x11.25 PSL                                       1135   \n",
       "5.25x11.875 PSL                                      1135   \n",
       "5.25x14 PSL                                          1135   \n",
       "5.25x16 PSL                                          1135   \n",
       "5.25x19 PSL                                          1135   \n",
       "7x9.25 PSL                                           1135   \n",
       "7x9.5 PSL                                            1135   \n",
       "7x11.25 PSL                                          1135   \n",
       "7x11.875 PSL                                         1135   \n",
       "7x14 PSL                                             1135   \n",
       "7x16 PSL                                             1135   \n",
       "7x19 PSL                                             1135   \n",
       "\n",
       "                 Horizontal Shear Parallel to Grain (psi)  \n",
       "Name                                                       \n",
       "1.75x9.5 LSL                                          575  \n",
       "1.75x11.875 LSL                                       575  \n",
       "1.75x14 LSL                                           575  \n",
       "1.75x16 LSL                                           575  \n",
       "1.75x5.25 LVL                                         530  \n",
       "1.75x5.25.1 LVL                                       530  \n",
       "1.75x9.25 LVL                                         530  \n",
       "1.75x9.5 LVL                                          530  \n",
       "1.75x11.25 LVL                                        530  \n",
       "1.75x11.875 LVL                                       530  \n",
       "1.75x14 LVL                                           530  \n",
       "1.75x16 LVL                                           530  \n",
       "1.75x18 LVL                                           530  \n",
       "1.75x20 LVL                                           530  \n",
       "3.5x9.25 PSL                                          540  \n",
       "3.5x9.5 PSL                                           540  \n",
       "3.5x11.25 PSL                                         540  \n",
       "3.5x11.875 PSL                                        540  \n",
       "3.5x14 PSL                                            540  \n",
       "3.5x16 PSL                                            540  \n",
       "3.5x19 PSL                                            540  \n",
       "5.25x9.25 PSL                                         540  \n",
       "5.25x9.5 PSL                                          540  \n",
       "5.25x11.25 PSL                                        540  \n",
       "5.25x11.875 PSL                                       540  \n",
       "5.25x14 PSL                                           540  \n",
       "5.25x16 PSL                                           540  \n",
       "5.25x19 PSL                                           540  \n",
       "7x9.25 PSL                                            540  \n",
       "7x9.5 PSL                                             540  \n",
       "7x11.25 PSL                                           540  \n",
       "7x11.875 PSL                                          540  \n",
       "7x14 PSL                                              540  \n",
       "7x16 PSL                                              540  \n",
       "7x19 PSL                                              540  "
      ]
     },
     "execution_count": 109,
     "metadata": {},
     "output_type": "execute_result"
    }
   ],
   "source": [
    "section_data = am.weyer_sections()\n",
    "section_data.set_index('Name', inplace=True)\n",
    "section_data"
   ]
  },
  {
   "cell_type": "code",
   "execution_count": 125,
   "id": "4c8882e6-7648-4b18-b735-52d614ee9fe1",
   "metadata": {},
   "outputs": [
    {
     "data": {
      "text/plain": [
       "WeyerBeam(Name='5.25x9.5 PSL', Material='PSL', Width=5.250 inch, Depth=9.500 inch, Vr=16160.000 lb, Mr=32580.000 lb·ft, E=2126000.000 psi, I=375.000 inch⁴, Weight=16.000 lb/ft, f_cp=1135.000 psi, f_v=540.000 psi)"
      ]
     },
     "execution_count": 125,
     "metadata": {},
     "output_type": "execute_result"
    }
   ],
   "source": [
    "my_beam = am.WeyerBeam_prop(section_data, '5.25x9.5 PSL')\n",
    "my_beam"
   ]
  },
  {
   "cell_type": "code",
   "execution_count": 138,
   "id": "d637bea4-4192-4aa7-9f73-68c30376a7b4",
   "metadata": {},
   "outputs": [
    {
     "name": "stdout",
     "output_type": "stream",
     "text": [
      "5.250 inch\n",
      "5.250 inch\n",
      "1135.000 psi\n"
     ]
    }
   ],
   "source": [
    "a=my_beam.factored_bearing_resistance()"
   ]
  },
  {
   "cell_type": "code",
   "execution_count": 139,
   "id": "594f037f-b1ce-4b21-834a-fe797faf1583",
   "metadata": {},
   "outputs": [
    {
     "data": {
      "text/html": [
       "31.283 kip"
      ],
      "text/latex": [
       "$31.283\\ \\mathrm{kip}$"
      ],
      "text/markdown": [
       "31.283 kip"
      ],
      "text/plain": [
       "31.283 kip"
      ]
     },
     "execution_count": 139,
     "metadata": {},
     "output_type": "execute_result"
    }
   ],
   "source": [
    "a"
   ]
  },
  {
   "cell_type": "code",
   "execution_count": 118,
   "id": "98ed530c-6ae4-4eef-82c4-76e6d4492c3f",
   "metadata": {},
   "outputs": [
    {
     "data": {
      "text/plain": [
       "(155.000 psf, 120.000 psf, 20.000 psf, 100.000 psf)"
      ]
     },
     "execution_count": 118,
     "metadata": {},
     "output_type": "execute_result"
    }
   ],
   "source": [
    "specified_load = am.gravity_loads(D = 100, L = 0, S = 20)\n",
    "specified_load"
   ]
  },
  {
   "cell_type": "code",
   "execution_count": 120,
   "id": "c855b6a8-1a4a-42f5-baaa-c338ad1b69c7",
   "metadata": {},
   "outputs": [
    {
     "name": "stdout",
     "output_type": "stream",
     "text": [
      "10504.000 lb\n",
      "(1135.568 lb/ft, 495.007 lb/ft, 373.083 lb/ft, 279.812 lb/ft, 186.542 lb/ft)\n"
     ]
    },
    {
     "data": {
      "text/html": [
       "1135.568 lb/ft"
      ],
      "text/latex": [
       "$1135.568\\ \\mathrm{lb/ft}$"
      ],
      "text/markdown": [
       "1135.568 lb/ft"
      ],
      "text/plain": [
       "1135.568 lb/ft"
      ]
     },
     "execution_count": 120,
     "metadata": {},
     "output_type": "execute_result"
    }
   ],
   "source": [
    "max_loads = am.working_load (my_beam, 18.5, delta_T = 180, delta_L = 240, delta_P = 360, kd = 0.65)\n",
    "print(max_loads)\n",
    "max_loads[0]"
   ]
  },
  {
   "cell_type": "code",
   "execution_count": 104,
   "id": "c1fd0bdc-fec1-44ae-bc50-f4c6b257bf99",
   "metadata": {},
   "outputs": [
    {
     "data": {
      "text/html": [
       "16.428 mm"
      ],
      "text/latex": [
       "$16.428\\ \\mathrm{mm}$"
      ],
      "text/markdown": [
       "16.428 mm"
      ],
      "text/plain": [
       "16.428 mm"
      ]
     },
     "execution_count": 104,
     "metadata": {},
     "output_type": "execute_result"
    }
   ],
   "source": [
    "perm_load =max_loads[4]\n",
    "L = 18.75 * us.ft\n",
    "E = 2.126e6 * us.psi\n",
    "I = my_beam.I\n",
    "(5*perm_load*(L**4))/(384*E*I)"
   ]
  },
  {
   "cell_type": "code",
   "execution_count": 94,
   "id": "26a97989-5375-4713-b9e0-59727e599f85",
   "metadata": {},
   "outputs": [
    {
     "data": {
      "text/html": [
       "509.275 lb"
      ],
      "text/latex": [
       "$509.275\\ \\mathrm{lb}$"
      ],
      "text/markdown": [
       "509.275 lb"
      ],
      "text/plain": [
       "509.275 lb"
      ]
     },
     "execution_count": 94,
     "metadata": {},
     "output_type": "execute_result"
    }
   ],
   "source": [
    "max_loads"
   ]
  },
  {
   "cell_type": "code",
   "execution_count": 50,
   "id": "f611e4cf-09f7-4833-9a54-4f19c1e2cccf",
   "metadata": {},
   "outputs": [
    {
     "data": {
      "text/html": [
       "7.652 ft"
      ],
      "text/latex": [
       "$7.652\\ \\mathrm{ft}$"
      ],
      "text/markdown": [
       "7.652 ft"
      ],
      "text/plain": [
       "7.652 ft"
      ]
     },
     "execution_count": 50,
     "metadata": {},
     "output_type": "execute_result"
    }
   ],
   "source": [
    "am.get_trib(specified_load, max_loads)"
   ]
  },
  {
   "cell_type": "code",
   "execution_count": 47,
   "id": "6f8f8ae9-2031-476d-8c59-0f4a35b47a0d",
   "metadata": {},
   "outputs": [
    {
     "data": {
      "text/plain": [
       "(1911.331 lb, 1401.242 lb·ft)"
      ]
     },
     "execution_count": 47,
     "metadata": {},
     "output_type": "execute_result"
    }
   ],
   "source": [
    "max_loads[0], max_loads[1]"
   ]
  },
  {
   "cell_type": "code",
   "execution_count": 60,
   "id": "2dc0800c-05ec-49e0-8904-2ccde9633131",
   "metadata": {},
   "outputs": [],
   "source": [
    "my_beam = am.WeyerBeam(Name='5.25x9.5 PSL', Material='PSL', Width=5.250 * us.inch, Depth=9.500 * us.inch, Vr=16160.000 * us.lb, Mr=32580.000 * us.lbft, E=2200000.000 * us.psi, I=375.000 * us.inch**4, Weight=16.000 * us.lb_ft, f_cp=1135.000 * us.psi, f_v=540.000 * us.psi)"
   ]
  },
  {
   "cell_type": "code",
   "execution_count": 62,
   "id": "c3fba6b0-791f-41b4-8c4c-7f69009c3e2c",
   "metadata": {},
   "outputs": [
    {
     "data": {
      "text/plain": [
       "True"
      ]
     },
     "execution_count": 62,
     "metadata": {},
     "output_type": "execute_result"
    }
   ],
   "source": [
    "beam2 == my_beam"
   ]
  },
  {
   "cell_type": "markdown",
   "id": "576a0624-42f9-4694-9623-45c3b9cdf06f",
   "metadata": {},
   "source": []
  },
  {
   "cell_type": "code",
   "execution_count": 63,
   "id": "370807cc-44e2-46ee-b89c-59b920435f33",
   "metadata": {},
   "outputs": [
    {
     "data": {
      "text/plain": [
       "0.6505149978319906"
      ]
     },
     "execution_count": 63,
     "metadata": {},
     "output_type": "execute_result"
    }
   ],
   "source": [
    "am.get_KD(100, 0, 20)"
   ]
  },
  {
   "cell_type": "code",
   "execution_count": 124,
   "id": "6cf6788a-eb54-4e13-bcdd-522812473e77",
   "metadata": {},
   "outputs": [
    {
     "data": {
      "text/html": [
       "4.326 lb/ft"
      ],
      "text/latex": [
       "$4.326\\ \\mathrm{lb/ft}$"
      ],
      "text/markdown": [
       "4.326 lb/ft"
      ],
      "text/plain": [
       "4.326 lb/ft"
      ]
     },
     "execution_count": 124,
     "metadata": {},
     "output_type": "execute_result"
    }
   ],
   "source": [
    "specified_loads = (25, 20, 0, 20)\n",
    "max_loads = (135.57 * us.lb_ft, 495.01 * us.lb_ft, 373.08 * us.lb_ft, 279.81 * us.lb_ft, 86.52 * us.lb_ft)\n",
    "am.get_trib(specified_loads, max_loads)"
   ]
  },
  {
   "cell_type": "code",
   "execution_count": 88,
   "id": "9cce49da-1f72-43ad-b27e-a62072412d13",
   "metadata": {},
   "outputs": [
    {
     "data": {
      "text/html": [
       "3.157 MN&#8901;m²"
      ],
      "text/latex": [
       "$3.157\\ \\mathrm{MN} \\cdot \\mathrm{m²}$"
      ],
      "text/markdown": [
       "3.157 MN&#8901;m²"
      ],
      "text/plain": [
       "3.157 MN·m²"
      ]
     },
     "execution_count": 88,
     "metadata": {},
     "output_type": "execute_result"
    }
   ],
   "source": [
    "a.to(us."
   ]
  },
  {
   "cell_type": "code",
   "execution_count": 131,
   "id": "f24d19b3-86be-4efe-93ee-339ef7f7aadc",
   "metadata": {},
   "outputs": [
    {
     "data": {
      "text/html": [
       "13903.750 lb"
      ],
      "text/latex": [
       "$13903.750\\ \\mathrm{lb}$"
      ],
      "text/markdown": [
       "13903.750 lb"
      ],
      "text/plain": [
       "13903.750 lb"
      ]
     },
     "execution_count": 131,
     "metadata": {},
     "output_type": "execute_result"
    }
   ],
   "source": [
    "1135 * us.psi * 3.5 * us.inch * 3.5*us.inch"
   ]
  },
  {
   "cell_type": "code",
   "execution_count": null,
   "id": "66310f4d-08a2-4386-a0c0-e6e88a63ba9d",
   "metadata": {},
   "outputs": [],
   "source": []
  }
 ],
 "metadata": {
  "kernelspec": {
   "display_name": "pfse",
   "language": "python",
   "name": "pfse"
  },
  "language_info": {
   "codemirror_mode": {
    "name": "ipython",
    "version": 3
   },
   "file_extension": ".py",
   "mimetype": "text/x-python",
   "name": "python",
   "nbconvert_exporter": "python",
   "pygments_lexer": "ipython3",
   "version": "3.10.12"
  }
 },
 "nbformat": 4,
 "nbformat_minor": 5
}
