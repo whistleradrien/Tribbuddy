{
 "cells": [
  {
   "cell_type": "code",
   "execution_count": 102,
   "id": "6841df73-820e-466b-9e1f-adc31792783c",
   "metadata": {},
   "outputs": [
    {
     "name": "stdout",
     "output_type": "stream",
     "text": [
      "The autoreload extension is already loaded. To reload it, use:\n",
      "  %reload_ext autoreload\n"
     ]
    }
   ],
   "source": [
    "%load_ext autoreload\n",
    "%autoreload 2"
   ]
  },
  {
   "cell_type": "code",
   "execution_count": 103,
   "id": "c312891d-197f-4657-be4c-03c5db23b131",
   "metadata": {},
   "outputs": [],
   "source": [
    "import app_module as am\n",
    "import forallpeople as us\n",
    "us.environment('structural')\n",
    "import pandas as pd"
   ]
  },
  {
   "cell_type": "code",
   "execution_count": 104,
   "id": "1cb1dbfc-bf8b-454f-aa54-7ce8323d270a",
   "metadata": {
    "tags": []
   },
   "outputs": [
    {
     "data": {
      "text/html": [
       "<div>\n",
       "<style scoped>\n",
       "    .dataframe tbody tr th:only-of-type {\n",
       "        vertical-align: middle;\n",
       "    }\n",
       "\n",
       "    .dataframe tbody tr th {\n",
       "        vertical-align: top;\n",
       "    }\n",
       "\n",
       "    .dataframe thead th {\n",
       "        text-align: right;\n",
       "    }\n",
       "</style>\n",
       "<table border=\"1\" class=\"dataframe\">\n",
       "  <thead>\n",
       "    <tr style=\"text-align: right;\">\n",
       "      <th></th>\n",
       "      <th>Material</th>\n",
       "      <th>Width</th>\n",
       "      <th>Depth</th>\n",
       "      <th>Factored Moment Resistance (ft-lbs)</th>\n",
       "      <th>Factored Shear Resistance (lbs)</th>\n",
       "      <th>Moment of Inertia (in.4)</th>\n",
       "      <th>Weight (plf)</th>\n",
       "      <th>Modulus of Elasticity (psi)</th>\n",
       "      <th>Apparent Modulus of Elasticity (psi)</th>\n",
       "      <th>Compression Perpendicular to Grain (psi)</th>\n",
       "      <th>Horizontal Shear Parallel to Grain (psi)</th>\n",
       "    </tr>\n",
       "    <tr>\n",
       "      <th>Name</th>\n",
       "      <th></th>\n",
       "      <th></th>\n",
       "      <th></th>\n",
       "      <th></th>\n",
       "      <th></th>\n",
       "      <th></th>\n",
       "      <th></th>\n",
       "      <th></th>\n",
       "      <th></th>\n",
       "      <th></th>\n",
       "      <th></th>\n",
       "    </tr>\n",
       "  </thead>\n",
       "  <tbody>\n",
       "    <tr>\n",
       "      <th>3.5x9.5 PSL</th>\n",
       "      <td>PSL</td>\n",
       "      <td>3.50</td>\n",
       "      <td>9.500</td>\n",
       "      <td>21720</td>\n",
       "      <td>10775</td>\n",
       "      <td>250</td>\n",
       "      <td>10</td>\n",
       "      <td>2200000</td>\n",
       "      <td>2126000</td>\n",
       "      <td>1135</td>\n",
       "      <td>540</td>\n",
       "    </tr>\n",
       "    <tr>\n",
       "      <th>3.5x11.25 PSL</th>\n",
       "      <td>PSL</td>\n",
       "      <td>3.50</td>\n",
       "      <td>11.250</td>\n",
       "      <td>29890</td>\n",
       "      <td>12760</td>\n",
       "      <td>415</td>\n",
       "      <td>12</td>\n",
       "      <td>2200000</td>\n",
       "      <td>2126000</td>\n",
       "      <td>1135</td>\n",
       "      <td>540</td>\n",
       "    </tr>\n",
       "    <tr>\n",
       "      <th>3.5x11.875 PSL</th>\n",
       "      <td>PSL</td>\n",
       "      <td>3.50</td>\n",
       "      <td>11.875</td>\n",
       "      <td>33105</td>\n",
       "      <td>13465</td>\n",
       "      <td>488</td>\n",
       "      <td>13</td>\n",
       "      <td>2200000</td>\n",
       "      <td>2126000</td>\n",
       "      <td>1135</td>\n",
       "      <td>540</td>\n",
       "    </tr>\n",
       "    <tr>\n",
       "      <th>3.5x14 PSL</th>\n",
       "      <td>PSL</td>\n",
       "      <td>3.50</td>\n",
       "      <td>14.000</td>\n",
       "      <td>45180</td>\n",
       "      <td>15875</td>\n",
       "      <td>800</td>\n",
       "      <td>15</td>\n",
       "      <td>2200000</td>\n",
       "      <td>2126000</td>\n",
       "      <td>1135</td>\n",
       "      <td>540</td>\n",
       "    </tr>\n",
       "    <tr>\n",
       "      <th>3.5x16 PSL</th>\n",
       "      <td>PSL</td>\n",
       "      <td>3.50</td>\n",
       "      <td>16.000</td>\n",
       "      <td>58145</td>\n",
       "      <td>18145</td>\n",
       "      <td>1195</td>\n",
       "      <td>18</td>\n",
       "      <td>2200000</td>\n",
       "      <td>2126000</td>\n",
       "      <td>1135</td>\n",
       "      <td>540</td>\n",
       "    </tr>\n",
       "    <tr>\n",
       "      <th>3.5x19 PSL</th>\n",
       "      <td>PSL</td>\n",
       "      <td>3.50</td>\n",
       "      <td>19.000</td>\n",
       "      <td>80445</td>\n",
       "      <td>21545</td>\n",
       "      <td>2001</td>\n",
       "      <td>21</td>\n",
       "      <td>2200000</td>\n",
       "      <td>2126000</td>\n",
       "      <td>1135</td>\n",
       "      <td>540</td>\n",
       "    </tr>\n",
       "    <tr>\n",
       "      <th>5.25x9.5 PSL</th>\n",
       "      <td>PSL</td>\n",
       "      <td>5.25</td>\n",
       "      <td>9.500</td>\n",
       "      <td>32580</td>\n",
       "      <td>16160</td>\n",
       "      <td>375</td>\n",
       "      <td>16</td>\n",
       "      <td>2200000</td>\n",
       "      <td>2126000</td>\n",
       "      <td>1135</td>\n",
       "      <td>540</td>\n",
       "    </tr>\n",
       "    <tr>\n",
       "      <th>5.25x11.25 PSL</th>\n",
       "      <td>PSL</td>\n",
       "      <td>5.25</td>\n",
       "      <td>11.250</td>\n",
       "      <td>44840</td>\n",
       "      <td>19135</td>\n",
       "      <td>623</td>\n",
       "      <td>19</td>\n",
       "      <td>2200000</td>\n",
       "      <td>2126000</td>\n",
       "      <td>1135</td>\n",
       "      <td>540</td>\n",
       "    </tr>\n",
       "    <tr>\n",
       "      <th>5.25x11.875 PSL</th>\n",
       "      <td>PSL</td>\n",
       "      <td>5.25</td>\n",
       "      <td>11.875</td>\n",
       "      <td>49660</td>\n",
       "      <td>20200</td>\n",
       "      <td>733</td>\n",
       "      <td>20</td>\n",
       "      <td>2200000</td>\n",
       "      <td>2126000</td>\n",
       "      <td>1135</td>\n",
       "      <td>540</td>\n",
       "    </tr>\n",
       "    <tr>\n",
       "      <th>5.25x14 PSL</th>\n",
       "      <td>PSL</td>\n",
       "      <td>5.25</td>\n",
       "      <td>14.000</td>\n",
       "      <td>67775</td>\n",
       "      <td>23815</td>\n",
       "      <td>1201</td>\n",
       "      <td>23</td>\n",
       "      <td>2200000</td>\n",
       "      <td>2126000</td>\n",
       "      <td>1135</td>\n",
       "      <td>540</td>\n",
       "    </tr>\n",
       "    <tr>\n",
       "      <th>5.25x16 PSL</th>\n",
       "      <td>PSL</td>\n",
       "      <td>5.25</td>\n",
       "      <td>16.000</td>\n",
       "      <td>87220</td>\n",
       "      <td>27215</td>\n",
       "      <td>1792</td>\n",
       "      <td>26</td>\n",
       "      <td>2200000</td>\n",
       "      <td>2126000</td>\n",
       "      <td>1135</td>\n",
       "      <td>540</td>\n",
       "    </tr>\n",
       "    <tr>\n",
       "      <th>5.25x19 PSL</th>\n",
       "      <td>PSL</td>\n",
       "      <td>5.25</td>\n",
       "      <td>19.000</td>\n",
       "      <td>120665</td>\n",
       "      <td>32320</td>\n",
       "      <td>3001</td>\n",
       "      <td>31</td>\n",
       "      <td>2200000</td>\n",
       "      <td>2126000</td>\n",
       "      <td>1135</td>\n",
       "      <td>540</td>\n",
       "    </tr>\n",
       "    <tr>\n",
       "      <th>7x9.5 PSL</th>\n",
       "      <td>PSL</td>\n",
       "      <td>7.00</td>\n",
       "      <td>9.500</td>\n",
       "      <td>43440</td>\n",
       "      <td>21545</td>\n",
       "      <td>500</td>\n",
       "      <td>21</td>\n",
       "      <td>2200000</td>\n",
       "      <td>2126000</td>\n",
       "      <td>1135</td>\n",
       "      <td>540</td>\n",
       "    </tr>\n",
       "    <tr>\n",
       "      <th>7x11.25 PSL</th>\n",
       "      <td>PSL</td>\n",
       "      <td>7.00</td>\n",
       "      <td>11.250</td>\n",
       "      <td>59785</td>\n",
       "      <td>25515</td>\n",
       "      <td>831</td>\n",
       "      <td>25</td>\n",
       "      <td>2200000</td>\n",
       "      <td>2126000</td>\n",
       "      <td>1135</td>\n",
       "      <td>540</td>\n",
       "    </tr>\n",
       "    <tr>\n",
       "      <th>7x11.875 PSL</th>\n",
       "      <td>PSL</td>\n",
       "      <td>7.00</td>\n",
       "      <td>11.875</td>\n",
       "      <td>66215</td>\n",
       "      <td>26935</td>\n",
       "      <td>977</td>\n",
       "      <td>26</td>\n",
       "      <td>2200000</td>\n",
       "      <td>2126000</td>\n",
       "      <td>1135</td>\n",
       "      <td>540</td>\n",
       "    </tr>\n",
       "    <tr>\n",
       "      <th>7x14 PSL</th>\n",
       "      <td>PSL</td>\n",
       "      <td>7.00</td>\n",
       "      <td>14.000</td>\n",
       "      <td>90365</td>\n",
       "      <td>31750</td>\n",
       "      <td>1601</td>\n",
       "      <td>31</td>\n",
       "      <td>2200000</td>\n",
       "      <td>2126000</td>\n",
       "      <td>1135</td>\n",
       "      <td>540</td>\n",
       "    </tr>\n",
       "    <tr>\n",
       "      <th>7x16 PSL</th>\n",
       "      <td>PSL</td>\n",
       "      <td>7.00</td>\n",
       "      <td>16.000</td>\n",
       "      <td>116290</td>\n",
       "      <td>36290</td>\n",
       "      <td>2389</td>\n",
       "      <td>35</td>\n",
       "      <td>2200000</td>\n",
       "      <td>2126000</td>\n",
       "      <td>1135</td>\n",
       "      <td>540</td>\n",
       "    </tr>\n",
       "    <tr>\n",
       "      <th>7x19 PSL</th>\n",
       "      <td>PSL</td>\n",
       "      <td>7.00</td>\n",
       "      <td>19.000</td>\n",
       "      <td>160890</td>\n",
       "      <td>43090</td>\n",
       "      <td>4001</td>\n",
       "      <td>42</td>\n",
       "      <td>2200000</td>\n",
       "      <td>2126000</td>\n",
       "      <td>1135</td>\n",
       "      <td>540</td>\n",
       "    </tr>\n",
       "  </tbody>\n",
       "</table>\n",
       "</div>"
      ],
      "text/plain": [
       "                Material  Width   Depth  Factored Moment Resistance (ft-lbs)  \\\n",
       "Name                                                                           \n",
       "3.5x9.5 PSL          PSL   3.50   9.500                                21720   \n",
       "3.5x11.25 PSL        PSL   3.50  11.250                                29890   \n",
       "3.5x11.875 PSL       PSL   3.50  11.875                                33105   \n",
       "3.5x14 PSL           PSL   3.50  14.000                                45180   \n",
       "3.5x16 PSL           PSL   3.50  16.000                                58145   \n",
       "3.5x19 PSL           PSL   3.50  19.000                                80445   \n",
       "5.25x9.5 PSL         PSL   5.25   9.500                                32580   \n",
       "5.25x11.25 PSL       PSL   5.25  11.250                                44840   \n",
       "5.25x11.875 PSL      PSL   5.25  11.875                                49660   \n",
       "5.25x14 PSL          PSL   5.25  14.000                                67775   \n",
       "5.25x16 PSL          PSL   5.25  16.000                                87220   \n",
       "5.25x19 PSL          PSL   5.25  19.000                               120665   \n",
       "7x9.5 PSL            PSL   7.00   9.500                                43440   \n",
       "7x11.25 PSL          PSL   7.00  11.250                                59785   \n",
       "7x11.875 PSL         PSL   7.00  11.875                                66215   \n",
       "7x14 PSL             PSL   7.00  14.000                                90365   \n",
       "7x16 PSL             PSL   7.00  16.000                               116290   \n",
       "7x19 PSL             PSL   7.00  19.000                               160890   \n",
       "\n",
       "                 Factored Shear Resistance (lbs)  Moment of Inertia (in.4)  \\\n",
       "Name                                                                         \n",
       "3.5x9.5 PSL                                10775                       250   \n",
       "3.5x11.25 PSL                              12760                       415   \n",
       "3.5x11.875 PSL                             13465                       488   \n",
       "3.5x14 PSL                                 15875                       800   \n",
       "3.5x16 PSL                                 18145                      1195   \n",
       "3.5x19 PSL                                 21545                      2001   \n",
       "5.25x9.5 PSL                               16160                       375   \n",
       "5.25x11.25 PSL                             19135                       623   \n",
       "5.25x11.875 PSL                            20200                       733   \n",
       "5.25x14 PSL                                23815                      1201   \n",
       "5.25x16 PSL                                27215                      1792   \n",
       "5.25x19 PSL                                32320                      3001   \n",
       "7x9.5 PSL                                  21545                       500   \n",
       "7x11.25 PSL                                25515                       831   \n",
       "7x11.875 PSL                               26935                       977   \n",
       "7x14 PSL                                   31750                      1601   \n",
       "7x16 PSL                                   36290                      2389   \n",
       "7x19 PSL                                   43090                      4001   \n",
       "\n",
       "                 Weight (plf)  Modulus of Elasticity (psi)  \\\n",
       "Name                                                         \n",
       "3.5x9.5 PSL                10                      2200000   \n",
       "3.5x11.25 PSL              12                      2200000   \n",
       "3.5x11.875 PSL             13                      2200000   \n",
       "3.5x14 PSL                 15                      2200000   \n",
       "3.5x16 PSL                 18                      2200000   \n",
       "3.5x19 PSL                 21                      2200000   \n",
       "5.25x9.5 PSL               16                      2200000   \n",
       "5.25x11.25 PSL             19                      2200000   \n",
       "5.25x11.875 PSL            20                      2200000   \n",
       "5.25x14 PSL                23                      2200000   \n",
       "5.25x16 PSL                26                      2200000   \n",
       "5.25x19 PSL                31                      2200000   \n",
       "7x9.5 PSL                  21                      2200000   \n",
       "7x11.25 PSL                25                      2200000   \n",
       "7x11.875 PSL               26                      2200000   \n",
       "7x14 PSL                   31                      2200000   \n",
       "7x16 PSL                   35                      2200000   \n",
       "7x19 PSL                   42                      2200000   \n",
       "\n",
       "                 Apparent Modulus of Elasticity (psi)  \\\n",
       "Name                                                    \n",
       "3.5x9.5 PSL                                   2126000   \n",
       "3.5x11.25 PSL                                 2126000   \n",
       "3.5x11.875 PSL                                2126000   \n",
       "3.5x14 PSL                                    2126000   \n",
       "3.5x16 PSL                                    2126000   \n",
       "3.5x19 PSL                                    2126000   \n",
       "5.25x9.5 PSL                                  2126000   \n",
       "5.25x11.25 PSL                                2126000   \n",
       "5.25x11.875 PSL                               2126000   \n",
       "5.25x14 PSL                                   2126000   \n",
       "5.25x16 PSL                                   2126000   \n",
       "5.25x19 PSL                                   2126000   \n",
       "7x9.5 PSL                                     2126000   \n",
       "7x11.25 PSL                                   2126000   \n",
       "7x11.875 PSL                                  2126000   \n",
       "7x14 PSL                                      2126000   \n",
       "7x16 PSL                                      2126000   \n",
       "7x19 PSL                                      2126000   \n",
       "\n",
       "                 Compression Perpendicular to Grain (psi)  \\\n",
       "Name                                                        \n",
       "3.5x9.5 PSL                                          1135   \n",
       "3.5x11.25 PSL                                        1135   \n",
       "3.5x11.875 PSL                                       1135   \n",
       "3.5x14 PSL                                           1135   \n",
       "3.5x16 PSL                                           1135   \n",
       "3.5x19 PSL                                           1135   \n",
       "5.25x9.5 PSL                                         1135   \n",
       "5.25x11.25 PSL                                       1135   \n",
       "5.25x11.875 PSL                                      1135   \n",
       "5.25x14 PSL                                          1135   \n",
       "5.25x16 PSL                                          1135   \n",
       "5.25x19 PSL                                          1135   \n",
       "7x9.5 PSL                                            1135   \n",
       "7x11.25 PSL                                          1135   \n",
       "7x11.875 PSL                                         1135   \n",
       "7x14 PSL                                             1135   \n",
       "7x16 PSL                                             1135   \n",
       "7x19 PSL                                             1135   \n",
       "\n",
       "                 Horizontal Shear Parallel to Grain (psi)  \n",
       "Name                                                       \n",
       "3.5x9.5 PSL                                           540  \n",
       "3.5x11.25 PSL                                         540  \n",
       "3.5x11.875 PSL                                        540  \n",
       "3.5x14 PSL                                            540  \n",
       "3.5x16 PSL                                            540  \n",
       "3.5x19 PSL                                            540  \n",
       "5.25x9.5 PSL                                          540  \n",
       "5.25x11.25 PSL                                        540  \n",
       "5.25x11.875 PSL                                       540  \n",
       "5.25x14 PSL                                           540  \n",
       "5.25x16 PSL                                           540  \n",
       "5.25x19 PSL                                           540  \n",
       "7x9.5 PSL                                             540  \n",
       "7x11.25 PSL                                           540  \n",
       "7x11.875 PSL                                          540  \n",
       "7x14 PSL                                              540  \n",
       "7x16 PSL                                              540  \n",
       "7x19 PSL                                              540  "
      ]
     },
     "execution_count": 104,
     "metadata": {},
     "output_type": "execute_result"
    }
   ],
   "source": [
    "section_data = am.weyer_sections()\n",
    "section_data.set_index('Name', inplace=True)\n",
    "section_data"
   ]
  },
  {
   "cell_type": "code",
   "execution_count": 105,
   "id": "49cfa454-4ebc-44e5-86f5-c92a231dca7d",
   "metadata": {},
   "outputs": [],
   "source": [
    "Width = section_data['Width'] >= 3.5\n",
    "Depth = section_data['Depth'] >= 9.5"
   ]
  },
  {
   "cell_type": "code",
   "execution_count": 106,
   "id": "c23019ae-d85b-4f30-8f99-b11679d781d5",
   "metadata": {},
   "outputs": [
    {
     "data": {
      "text/html": [
       "<div>\n",
       "<style scoped>\n",
       "    .dataframe tbody tr th:only-of-type {\n",
       "        vertical-align: middle;\n",
       "    }\n",
       "\n",
       "    .dataframe tbody tr th {\n",
       "        vertical-align: top;\n",
       "    }\n",
       "\n",
       "    .dataframe thead th {\n",
       "        text-align: right;\n",
       "    }\n",
       "</style>\n",
       "<table border=\"1\" class=\"dataframe\">\n",
       "  <thead>\n",
       "    <tr style=\"text-align: right;\">\n",
       "      <th></th>\n",
       "      <th>Material</th>\n",
       "      <th>Width</th>\n",
       "      <th>Depth</th>\n",
       "      <th>Factored Moment Resistance (ft-lbs)</th>\n",
       "      <th>Factored Shear Resistance (lbs)</th>\n",
       "      <th>Moment of Inertia (in.4)</th>\n",
       "      <th>Weight (plf)</th>\n",
       "      <th>Modulus of Elasticity (psi)</th>\n",
       "      <th>Apparent Modulus of Elasticity (psi)</th>\n",
       "      <th>Compression Perpendicular to Grain (psi)</th>\n",
       "      <th>Horizontal Shear Parallel to Grain (psi)</th>\n",
       "    </tr>\n",
       "    <tr>\n",
       "      <th>Name</th>\n",
       "      <th></th>\n",
       "      <th></th>\n",
       "      <th></th>\n",
       "      <th></th>\n",
       "      <th></th>\n",
       "      <th></th>\n",
       "      <th></th>\n",
       "      <th></th>\n",
       "      <th></th>\n",
       "      <th></th>\n",
       "      <th></th>\n",
       "    </tr>\n",
       "  </thead>\n",
       "  <tbody>\n",
       "    <tr>\n",
       "      <th>3.5x9.5 PSL</th>\n",
       "      <td>PSL</td>\n",
       "      <td>3.50</td>\n",
       "      <td>9.500</td>\n",
       "      <td>21720</td>\n",
       "      <td>10775</td>\n",
       "      <td>250</td>\n",
       "      <td>10</td>\n",
       "      <td>2200000</td>\n",
       "      <td>2126000</td>\n",
       "      <td>1135</td>\n",
       "      <td>540</td>\n",
       "    </tr>\n",
       "    <tr>\n",
       "      <th>3.5x11.25 PSL</th>\n",
       "      <td>PSL</td>\n",
       "      <td>3.50</td>\n",
       "      <td>11.250</td>\n",
       "      <td>29890</td>\n",
       "      <td>12760</td>\n",
       "      <td>415</td>\n",
       "      <td>12</td>\n",
       "      <td>2200000</td>\n",
       "      <td>2126000</td>\n",
       "      <td>1135</td>\n",
       "      <td>540</td>\n",
       "    </tr>\n",
       "    <tr>\n",
       "      <th>3.5x11.875 PSL</th>\n",
       "      <td>PSL</td>\n",
       "      <td>3.50</td>\n",
       "      <td>11.875</td>\n",
       "      <td>33105</td>\n",
       "      <td>13465</td>\n",
       "      <td>488</td>\n",
       "      <td>13</td>\n",
       "      <td>2200000</td>\n",
       "      <td>2126000</td>\n",
       "      <td>1135</td>\n",
       "      <td>540</td>\n",
       "    </tr>\n",
       "    <tr>\n",
       "      <th>3.5x14 PSL</th>\n",
       "      <td>PSL</td>\n",
       "      <td>3.50</td>\n",
       "      <td>14.000</td>\n",
       "      <td>45180</td>\n",
       "      <td>15875</td>\n",
       "      <td>800</td>\n",
       "      <td>15</td>\n",
       "      <td>2200000</td>\n",
       "      <td>2126000</td>\n",
       "      <td>1135</td>\n",
       "      <td>540</td>\n",
       "    </tr>\n",
       "    <tr>\n",
       "      <th>3.5x16 PSL</th>\n",
       "      <td>PSL</td>\n",
       "      <td>3.50</td>\n",
       "      <td>16.000</td>\n",
       "      <td>58145</td>\n",
       "      <td>18145</td>\n",
       "      <td>1195</td>\n",
       "      <td>18</td>\n",
       "      <td>2200000</td>\n",
       "      <td>2126000</td>\n",
       "      <td>1135</td>\n",
       "      <td>540</td>\n",
       "    </tr>\n",
       "    <tr>\n",
       "      <th>3.5x19 PSL</th>\n",
       "      <td>PSL</td>\n",
       "      <td>3.50</td>\n",
       "      <td>19.000</td>\n",
       "      <td>80445</td>\n",
       "      <td>21545</td>\n",
       "      <td>2001</td>\n",
       "      <td>21</td>\n",
       "      <td>2200000</td>\n",
       "      <td>2126000</td>\n",
       "      <td>1135</td>\n",
       "      <td>540</td>\n",
       "    </tr>\n",
       "    <tr>\n",
       "      <th>5.25x9.5 PSL</th>\n",
       "      <td>PSL</td>\n",
       "      <td>5.25</td>\n",
       "      <td>9.500</td>\n",
       "      <td>32580</td>\n",
       "      <td>16160</td>\n",
       "      <td>375</td>\n",
       "      <td>16</td>\n",
       "      <td>2200000</td>\n",
       "      <td>2126000</td>\n",
       "      <td>1135</td>\n",
       "      <td>540</td>\n",
       "    </tr>\n",
       "    <tr>\n",
       "      <th>5.25x11.25 PSL</th>\n",
       "      <td>PSL</td>\n",
       "      <td>5.25</td>\n",
       "      <td>11.250</td>\n",
       "      <td>44840</td>\n",
       "      <td>19135</td>\n",
       "      <td>623</td>\n",
       "      <td>19</td>\n",
       "      <td>2200000</td>\n",
       "      <td>2126000</td>\n",
       "      <td>1135</td>\n",
       "      <td>540</td>\n",
       "    </tr>\n",
       "    <tr>\n",
       "      <th>5.25x11.875 PSL</th>\n",
       "      <td>PSL</td>\n",
       "      <td>5.25</td>\n",
       "      <td>11.875</td>\n",
       "      <td>49660</td>\n",
       "      <td>20200</td>\n",
       "      <td>733</td>\n",
       "      <td>20</td>\n",
       "      <td>2200000</td>\n",
       "      <td>2126000</td>\n",
       "      <td>1135</td>\n",
       "      <td>540</td>\n",
       "    </tr>\n",
       "    <tr>\n",
       "      <th>5.25x14 PSL</th>\n",
       "      <td>PSL</td>\n",
       "      <td>5.25</td>\n",
       "      <td>14.000</td>\n",
       "      <td>67775</td>\n",
       "      <td>23815</td>\n",
       "      <td>1201</td>\n",
       "      <td>23</td>\n",
       "      <td>2200000</td>\n",
       "      <td>2126000</td>\n",
       "      <td>1135</td>\n",
       "      <td>540</td>\n",
       "    </tr>\n",
       "    <tr>\n",
       "      <th>5.25x16 PSL</th>\n",
       "      <td>PSL</td>\n",
       "      <td>5.25</td>\n",
       "      <td>16.000</td>\n",
       "      <td>87220</td>\n",
       "      <td>27215</td>\n",
       "      <td>1792</td>\n",
       "      <td>26</td>\n",
       "      <td>2200000</td>\n",
       "      <td>2126000</td>\n",
       "      <td>1135</td>\n",
       "      <td>540</td>\n",
       "    </tr>\n",
       "    <tr>\n",
       "      <th>5.25x19 PSL</th>\n",
       "      <td>PSL</td>\n",
       "      <td>5.25</td>\n",
       "      <td>19.000</td>\n",
       "      <td>120665</td>\n",
       "      <td>32320</td>\n",
       "      <td>3001</td>\n",
       "      <td>31</td>\n",
       "      <td>2200000</td>\n",
       "      <td>2126000</td>\n",
       "      <td>1135</td>\n",
       "      <td>540</td>\n",
       "    </tr>\n",
       "    <tr>\n",
       "      <th>7x9.5 PSL</th>\n",
       "      <td>PSL</td>\n",
       "      <td>7.00</td>\n",
       "      <td>9.500</td>\n",
       "      <td>43440</td>\n",
       "      <td>21545</td>\n",
       "      <td>500</td>\n",
       "      <td>21</td>\n",
       "      <td>2200000</td>\n",
       "      <td>2126000</td>\n",
       "      <td>1135</td>\n",
       "      <td>540</td>\n",
       "    </tr>\n",
       "    <tr>\n",
       "      <th>7x11.25 PSL</th>\n",
       "      <td>PSL</td>\n",
       "      <td>7.00</td>\n",
       "      <td>11.250</td>\n",
       "      <td>59785</td>\n",
       "      <td>25515</td>\n",
       "      <td>831</td>\n",
       "      <td>25</td>\n",
       "      <td>2200000</td>\n",
       "      <td>2126000</td>\n",
       "      <td>1135</td>\n",
       "      <td>540</td>\n",
       "    </tr>\n",
       "    <tr>\n",
       "      <th>7x11.875 PSL</th>\n",
       "      <td>PSL</td>\n",
       "      <td>7.00</td>\n",
       "      <td>11.875</td>\n",
       "      <td>66215</td>\n",
       "      <td>26935</td>\n",
       "      <td>977</td>\n",
       "      <td>26</td>\n",
       "      <td>2200000</td>\n",
       "      <td>2126000</td>\n",
       "      <td>1135</td>\n",
       "      <td>540</td>\n",
       "    </tr>\n",
       "    <tr>\n",
       "      <th>7x14 PSL</th>\n",
       "      <td>PSL</td>\n",
       "      <td>7.00</td>\n",
       "      <td>14.000</td>\n",
       "      <td>90365</td>\n",
       "      <td>31750</td>\n",
       "      <td>1601</td>\n",
       "      <td>31</td>\n",
       "      <td>2200000</td>\n",
       "      <td>2126000</td>\n",
       "      <td>1135</td>\n",
       "      <td>540</td>\n",
       "    </tr>\n",
       "    <tr>\n",
       "      <th>7x16 PSL</th>\n",
       "      <td>PSL</td>\n",
       "      <td>7.00</td>\n",
       "      <td>16.000</td>\n",
       "      <td>116290</td>\n",
       "      <td>36290</td>\n",
       "      <td>2389</td>\n",
       "      <td>35</td>\n",
       "      <td>2200000</td>\n",
       "      <td>2126000</td>\n",
       "      <td>1135</td>\n",
       "      <td>540</td>\n",
       "    </tr>\n",
       "    <tr>\n",
       "      <th>7x19 PSL</th>\n",
       "      <td>PSL</td>\n",
       "      <td>7.00</td>\n",
       "      <td>19.000</td>\n",
       "      <td>160890</td>\n",
       "      <td>43090</td>\n",
       "      <td>4001</td>\n",
       "      <td>42</td>\n",
       "      <td>2200000</td>\n",
       "      <td>2126000</td>\n",
       "      <td>1135</td>\n",
       "      <td>540</td>\n",
       "    </tr>\n",
       "  </tbody>\n",
       "</table>\n",
       "</div>"
      ],
      "text/plain": [
       "                Material  Width   Depth  Factored Moment Resistance (ft-lbs)  \\\n",
       "Name                                                                           \n",
       "3.5x9.5 PSL          PSL   3.50   9.500                                21720   \n",
       "3.5x11.25 PSL        PSL   3.50  11.250                                29890   \n",
       "3.5x11.875 PSL       PSL   3.50  11.875                                33105   \n",
       "3.5x14 PSL           PSL   3.50  14.000                                45180   \n",
       "3.5x16 PSL           PSL   3.50  16.000                                58145   \n",
       "3.5x19 PSL           PSL   3.50  19.000                                80445   \n",
       "5.25x9.5 PSL         PSL   5.25   9.500                                32580   \n",
       "5.25x11.25 PSL       PSL   5.25  11.250                                44840   \n",
       "5.25x11.875 PSL      PSL   5.25  11.875                                49660   \n",
       "5.25x14 PSL          PSL   5.25  14.000                                67775   \n",
       "5.25x16 PSL          PSL   5.25  16.000                                87220   \n",
       "5.25x19 PSL          PSL   5.25  19.000                               120665   \n",
       "7x9.5 PSL            PSL   7.00   9.500                                43440   \n",
       "7x11.25 PSL          PSL   7.00  11.250                                59785   \n",
       "7x11.875 PSL         PSL   7.00  11.875                                66215   \n",
       "7x14 PSL             PSL   7.00  14.000                                90365   \n",
       "7x16 PSL             PSL   7.00  16.000                               116290   \n",
       "7x19 PSL             PSL   7.00  19.000                               160890   \n",
       "\n",
       "                 Factored Shear Resistance (lbs)  Moment of Inertia (in.4)  \\\n",
       "Name                                                                         \n",
       "3.5x9.5 PSL                                10775                       250   \n",
       "3.5x11.25 PSL                              12760                       415   \n",
       "3.5x11.875 PSL                             13465                       488   \n",
       "3.5x14 PSL                                 15875                       800   \n",
       "3.5x16 PSL                                 18145                      1195   \n",
       "3.5x19 PSL                                 21545                      2001   \n",
       "5.25x9.5 PSL                               16160                       375   \n",
       "5.25x11.25 PSL                             19135                       623   \n",
       "5.25x11.875 PSL                            20200                       733   \n",
       "5.25x14 PSL                                23815                      1201   \n",
       "5.25x16 PSL                                27215                      1792   \n",
       "5.25x19 PSL                                32320                      3001   \n",
       "7x9.5 PSL                                  21545                       500   \n",
       "7x11.25 PSL                                25515                       831   \n",
       "7x11.875 PSL                               26935                       977   \n",
       "7x14 PSL                                   31750                      1601   \n",
       "7x16 PSL                                   36290                      2389   \n",
       "7x19 PSL                                   43090                      4001   \n",
       "\n",
       "                 Weight (plf)  Modulus of Elasticity (psi)  \\\n",
       "Name                                                         \n",
       "3.5x9.5 PSL                10                      2200000   \n",
       "3.5x11.25 PSL              12                      2200000   \n",
       "3.5x11.875 PSL             13                      2200000   \n",
       "3.5x14 PSL                 15                      2200000   \n",
       "3.5x16 PSL                 18                      2200000   \n",
       "3.5x19 PSL                 21                      2200000   \n",
       "5.25x9.5 PSL               16                      2200000   \n",
       "5.25x11.25 PSL             19                      2200000   \n",
       "5.25x11.875 PSL            20                      2200000   \n",
       "5.25x14 PSL                23                      2200000   \n",
       "5.25x16 PSL                26                      2200000   \n",
       "5.25x19 PSL                31                      2200000   \n",
       "7x9.5 PSL                  21                      2200000   \n",
       "7x11.25 PSL                25                      2200000   \n",
       "7x11.875 PSL               26                      2200000   \n",
       "7x14 PSL                   31                      2200000   \n",
       "7x16 PSL                   35                      2200000   \n",
       "7x19 PSL                   42                      2200000   \n",
       "\n",
       "                 Apparent Modulus of Elasticity (psi)  \\\n",
       "Name                                                    \n",
       "3.5x9.5 PSL                                   2126000   \n",
       "3.5x11.25 PSL                                 2126000   \n",
       "3.5x11.875 PSL                                2126000   \n",
       "3.5x14 PSL                                    2126000   \n",
       "3.5x16 PSL                                    2126000   \n",
       "3.5x19 PSL                                    2126000   \n",
       "5.25x9.5 PSL                                  2126000   \n",
       "5.25x11.25 PSL                                2126000   \n",
       "5.25x11.875 PSL                               2126000   \n",
       "5.25x14 PSL                                   2126000   \n",
       "5.25x16 PSL                                   2126000   \n",
       "5.25x19 PSL                                   2126000   \n",
       "7x9.5 PSL                                     2126000   \n",
       "7x11.25 PSL                                   2126000   \n",
       "7x11.875 PSL                                  2126000   \n",
       "7x14 PSL                                      2126000   \n",
       "7x16 PSL                                      2126000   \n",
       "7x19 PSL                                      2126000   \n",
       "\n",
       "                 Compression Perpendicular to Grain (psi)  \\\n",
       "Name                                                        \n",
       "3.5x9.5 PSL                                          1135   \n",
       "3.5x11.25 PSL                                        1135   \n",
       "3.5x11.875 PSL                                       1135   \n",
       "3.5x14 PSL                                           1135   \n",
       "3.5x16 PSL                                           1135   \n",
       "3.5x19 PSL                                           1135   \n",
       "5.25x9.5 PSL                                         1135   \n",
       "5.25x11.25 PSL                                       1135   \n",
       "5.25x11.875 PSL                                      1135   \n",
       "5.25x14 PSL                                          1135   \n",
       "5.25x16 PSL                                          1135   \n",
       "5.25x19 PSL                                          1135   \n",
       "7x9.5 PSL                                            1135   \n",
       "7x11.25 PSL                                          1135   \n",
       "7x11.875 PSL                                         1135   \n",
       "7x14 PSL                                             1135   \n",
       "7x16 PSL                                             1135   \n",
       "7x19 PSL                                             1135   \n",
       "\n",
       "                 Horizontal Shear Parallel to Grain (psi)  \n",
       "Name                                                       \n",
       "3.5x9.5 PSL                                           540  \n",
       "3.5x11.25 PSL                                         540  \n",
       "3.5x11.875 PSL                                        540  \n",
       "3.5x14 PSL                                            540  \n",
       "3.5x16 PSL                                            540  \n",
       "3.5x19 PSL                                            540  \n",
       "5.25x9.5 PSL                                          540  \n",
       "5.25x11.25 PSL                                        540  \n",
       "5.25x11.875 PSL                                       540  \n",
       "5.25x14 PSL                                           540  \n",
       "5.25x16 PSL                                           540  \n",
       "5.25x19 PSL                                           540  \n",
       "7x9.5 PSL                                             540  \n",
       "7x11.25 PSL                                           540  \n",
       "7x11.875 PSL                                          540  \n",
       "7x14 PSL                                              540  \n",
       "7x16 PSL                                              540  \n",
       "7x19 PSL                                              540  "
      ]
     },
     "execution_count": 106,
     "metadata": {},
     "output_type": "execute_result"
    }
   ],
   "source": [
    "section_data.loc[Width & Depth]"
   ]
  },
  {
   "cell_type": "code",
   "execution_count": 117,
   "id": "4c8882e6-7648-4b18-b735-52d614ee9fe1",
   "metadata": {},
   "outputs": [
    {
     "data": {
      "text/plain": [
       "WeyerBeam(Name='5.25x9.5 PSL', Material='PSL', Width=5.250 inch, Depth=9.500 inch, Vr=16160.000 lb, Mr=32580.000 lb·ft, E=2200000.000 psi, I=375.000 inch⁴, Weight=16.000 lb/ft, f_cp=1135.000 psi, f_v=540.000 psi)"
      ]
     },
     "execution_count": 117,
     "metadata": {},
     "output_type": "execute_result"
    }
   ],
   "source": [
    "my_beam = am.WeyerBeam_prop(section_data, '5.25x9.5 PSL')\n",
    "my_beam"
   ]
  },
  {
   "cell_type": "code",
   "execution_count": 116,
   "id": "baf0f5f8-b85c-4f1c-badf-35b060cab6f0",
   "metadata": {},
   "outputs": [
    {
     "data": {
      "text/html": [
       "5.250 lb/ft"
      ],
      "text/latex": [
       "$5.250\\ \\mathrm{lb/ft}$"
      ],
      "text/markdown": [
       "5.250 lb/ft"
      ],
      "text/plain": [
       "5.250 lb/ft"
      ]
     },
     "execution_count": 116,
     "metadata": {},
     "output_type": "execute_result"
    }
   ],
   "source": [
    "b = my_beam.Width / us.inch\n",
    "b * us.lb_ft"
   ]
  },
  {
   "cell_type": "code",
   "execution_count": null,
   "id": "fb190823-352f-4ca1-9f02-74b5775b4f35",
   "metadata": {},
   "outputs": [],
   "source": []
  },
  {
   "cell_type": "code",
   "execution_count": 138,
   "id": "d637bea4-4192-4aa7-9f73-68c30376a7b4",
   "metadata": {},
   "outputs": [
    {
     "name": "stdout",
     "output_type": "stream",
     "text": [
      "5.250 inch\n",
      "5.250 inch\n",
      "1135.000 psi\n"
     ]
    }
   ],
   "source": [
    "a=my_beam.factored_bearing_resistance()"
   ]
  },
  {
   "cell_type": "code",
   "execution_count": 63,
   "id": "594f037f-b1ce-4b21-834a-fe797faf1583",
   "metadata": {},
   "outputs": [],
   "source": [
    "d = 100\n",
    "l= 0\n",
    "s = 20"
   ]
  },
  {
   "cell_type": "code",
   "execution_count": 72,
   "id": "98ed530c-6ae4-4eef-82c4-76e6d4492c3f",
   "metadata": {},
   "outputs": [
    {
     "data": {
      "text/plain": [
       "(155.000 psf, 120.000 psf, 20.000 psf, 100.000 psf)"
      ]
     },
     "execution_count": 72,
     "metadata": {},
     "output_type": "execute_result"
    }
   ],
   "source": [
    "specified_load = am.gravity_loads(d, l , s)\n",
    "specified_load"
   ]
  },
  {
   "cell_type": "code",
   "execution_count": 123,
   "id": "c855b6a8-1a4a-42f5-baaa-c338ad1b69c7",
   "metadata": {},
   "outputs": [
    {
     "name": "stdout",
     "output_type": "stream",
     "text": [
      "E = 2200000.0\n",
      "b = 5.25\n",
      "d = 9.5\n",
      "L = 18.5\n",
      "delta_P = 0.6166666666666667\n"
     ]
    },
    {
     "data": {
      "text/plain": [
       "(1135.568 lb/ft, 495.007 lb/ft, 375.609 lb/ft, 281.706 lb/ft, 187.804 lb/ft)"
      ]
     },
     "execution_count": 123,
     "metadata": {},
     "output_type": "execute_result"
    }
   ],
   "source": [
    "max_loads = am.working_load (my_beam, 18.5, delta_T = 180, delta_L = 240, delta_P = 360, kd = 0.65)\n",
    "max_loads\n"
   ]
  },
  {
   "cell_type": "code",
   "execution_count": 66,
   "id": "5ba1af4b-e2b6-4adf-9c01-1ea52fc5249f",
   "metadata": {},
   "outputs": [
    {
     "data": {
      "text/html": [
       "1.865 ft"
      ],
      "text/latex": [
       "$1.865\\ \\mathrm{ft}$"
      ],
      "text/markdown": [
       "1.865 ft"
      ],
      "text/plain": [
       "1.865 ft"
      ]
     },
     "execution_count": 66,
     "metadata": {},
     "output_type": "execute_result"
    }
   ],
   "source": [
    "trib = am.get_trib(specified_load, max_loads)\n",
    "trib"
   ]
  },
  {
   "cell_type": "code",
   "execution_count": 75,
   "id": "945e4de8-607e-4520-8f64-2d61ae81098c",
   "metadata": {},
   "outputs": [
    {
     "name": "stdout",
     "output_type": "stream",
     "text": [
      "Br_beam = 31.010 kip\n"
     ]
    },
    {
     "data": {
      "text/html": [
       "19.347 ft"
      ],
      "text/latex": [
       "$19.347\\ \\mathrm{ft}$"
      ],
      "text/markdown": [
       "19.347 ft"
      ],
      "text/plain": [
       "19.347 ft"
      ]
     },
     "execution_count": 75,
     "metadata": {},
     "output_type": "execute_result"
    }
   ],
   "source": [
    "am.max_trib4brg(my_beam = my_beam, L=18.5, pl_mat = 'D.Fir No. 1/No. 2', brg_length = 10, d = d, l = l, s = s)/specified_load[0]\n"
   ]
  },
  {
   "cell_type": "code",
   "execution_count": 73,
   "id": "24626d0c-e176-4de5-a100-cc79abae906f",
   "metadata": {},
   "outputs": [
    {
     "ename": "TypeError",
     "evalue": "'Physical' object is not subscriptable",
     "output_type": "error",
     "traceback": [
      "\u001b[1;31m---------------------------------------------------------------------------\u001b[0m",
      "\u001b[1;31mTypeError\u001b[0m                                 Traceback (most recent call last)",
      "Cell \u001b[1;32mIn[73], line 1\u001b[0m\n\u001b[1;32m----> 1\u001b[0m \u001b[43mam\u001b[49m\u001b[38;5;241;43m.\u001b[39;49m\u001b[43mget_trib\u001b[49m\u001b[43m(\u001b[49m\u001b[43mspecified_load\u001b[49m\u001b[43m,\u001b[49m\u001b[43m \u001b[49m\u001b[43mw_Br\u001b[49m\u001b[43m)\u001b[49m\n",
      "File \u001b[1;32m~\\pycode\\final project\\Tribbuddy\\app_module.py:206\u001b[0m, in \u001b[0;36mget_trib\u001b[1;34m(specified_loads, max_loads)\u001b[0m\n\u001b[0;32m    198\u001b[0m \u001b[38;5;28;01mdef\u001b[39;00m \u001b[38;5;21mget_trib\u001b[39m (specified_loads: \u001b[38;5;28mtuple\u001b[39m, max_loads: \u001b[38;5;28mtuple\u001b[39m)\u001b[38;5;241m-\u001b[39m\u001b[38;5;241m>\u001b[39m \u001b[38;5;28mfloat\u001b[39m:\n\u001b[0;32m    199\u001b[0m \u001b[38;5;250m    \u001b[39m\u001b[38;5;124;03m\"\"\"\u001b[39;00m\n\u001b[0;32m    200\u001b[0m \u001b[38;5;124;03m    Function that returns the maximum tributary area a beam can support based on the specified loads area loads that are applied to it.\u001b[39;00m\n\u001b[0;32m    201\u001b[0m \u001b[38;5;124;03m    Specified_loads: Tuple with the following values (w_f, w, w_L, w_D)\u001b[39;00m\n\u001b[0;32m    202\u001b[0m \u001b[38;5;124;03m    Resisting_loads: Tuple with the following values (w_Vr, w_Mr, w_delt_T, w_delt_L, w_delt_D)\u001b[39;00m\n\u001b[0;32m    203\u001b[0m \u001b[38;5;124;03m    \"\"\"\u001b[39;00m\n\u001b[1;32m--> 206\u001b[0m     w_f \u001b[38;5;241m=\u001b[39m \u001b[38;5;28mmin\u001b[39m(\u001b[43mmax_loads\u001b[49m\u001b[43m[\u001b[49m\u001b[38;5;241;43m0\u001b[39;49m\u001b[43m]\u001b[49m, max_loads[\u001b[38;5;241m1\u001b[39m]) \u001b[38;5;241m/\u001b[39m specified_loads[\u001b[38;5;241m0\u001b[39m]\n\u001b[0;32m    207\u001b[0m     w_D \u001b[38;5;241m=\u001b[39m max_loads[\u001b[38;5;241m4\u001b[39m] \u001b[38;5;241m/\u001b[39m specified_loads[\u001b[38;5;241m3\u001b[39m]\n\u001b[0;32m    208\u001b[0m     \u001b[38;5;28;01mif\u001b[39;00m specified_loads[\u001b[38;5;241m1\u001b[39m] \u001b[38;5;241m==\u001b[39m \u001b[38;5;241m0\u001b[39m:     \u001b[38;5;66;03m#ensure the program does not divide by zero\u001b[39;00m\n",
      "\u001b[1;31mTypeError\u001b[0m: 'Physical' object is not subscriptable"
     ]
    }
   ],
   "source": [
    "am.get_trib(specified_load, w_Br)"
   ]
  },
  {
   "cell_type": "code",
   "execution_count": 104,
   "id": "c1fd0bdc-fec1-44ae-bc50-f4c6b257bf99",
   "metadata": {},
   "outputs": [
    {
     "data": {
      "text/html": [
       "16.428 mm"
      ],
      "text/latex": [
       "$16.428\\ \\mathrm{mm}$"
      ],
      "text/markdown": [
       "16.428 mm"
      ],
      "text/plain": [
       "16.428 mm"
      ]
     },
     "execution_count": 104,
     "metadata": {},
     "output_type": "execute_result"
    }
   ],
   "source": [
    "perm_load =max_loads[4]\n",
    "L = 18.75 * us.ft\n",
    "E = 2.126e6 * us.psi\n",
    "I = my_beam.I\n",
    "(5*perm_load*(L**4))/(384*E*I)"
   ]
  },
  {
   "cell_type": "code",
   "execution_count": 52,
   "id": "87ad6ab5-0b0f-4b2b-b5f8-2400193fe2a6",
   "metadata": {},
   "outputs": [],
   "source": [
    "my_beam = am.WeyerBeam(\n",
    "        Name='5.25x9.5 PSL',            \n",
    "        Material='PSL',\n",
    "        Width=5.250 * us.inch,\n",
    "        Depth=9.500 * us.inch,\n",
    "        Vr=16160.000 * us.lb,\n",
    "        Mr=32580.000 * us.lbft,\n",
    "        E=2126000.000 * us.psi, \n",
    "        I=375.000 * us.inch**4, \n",
    "        Weight=16.000 * us.lb_ft, \n",
    "        f_cp=1135.000 * us.psi, \n",
    "        f_v=540.000 * us.psi)\n",
    "    \n",
    "d = 100\n",
    "l= 0\n",
    "s = 20"
   ]
  },
  {
   "cell_type": "code",
   "execution_count": 57,
   "id": "0d3b83c1-01c8-4ea3-a039-378688df4b32",
   "metadata": {},
   "outputs": [
    {
     "data": {
      "text/html": [
       "1628.028 lb/ft"
      ],
      "text/latex": [
       "$1628.028\\ \\mathrm{lb/ft}$"
      ],
      "text/markdown": [
       "1628.028 lb/ft"
      ],
      "text/plain": [
       "1628.028 lb/ft"
      ]
     },
     "execution_count": 57,
     "metadata": {},
     "output_type": "execute_result"
    }
   ],
   "source": [
    "am.max_trib4brg(my_beam, 20, d=d, l=l, s=s)"
   ]
  },
  {
   "cell_type": "code",
   "execution_count": 34,
   "id": "581f8039-f5c7-41f5-8782-e82e79e36ac2",
   "metadata": {},
   "outputs": [
    {
     "name": "stdout",
     "output_type": "stream",
     "text": [
      "1\n"
     ]
    },
    {
     "data": {
      "text/html": [
       "2502.675 lb/ft"
      ],
      "text/latex": [
       "$2502.675\\ \\mathrm{lb/ft}$"
      ],
      "text/markdown": [
       "2502.675 lb/ft"
      ],
      "text/plain": [
       "2502.675 lb/ft"
      ]
     },
     "execution_count": 34,
     "metadata": {},
     "output_type": "execute_result"
    }
   ],
   "source": [
    "d = 100\n",
    "l= 0\n",
    "s = 20\n",
    "am.max_trib4brg(my_beam = my_beam, L=20, d=d, l=l, s=s)"
   ]
  },
  {
   "cell_type": "code",
   "execution_count": 37,
   "id": "476a47ae-8db6-4850-8ede-fcdff817177f",
   "metadata": {},
   "outputs": [],
   "source": [
    "my_brg_pl = am.bearing_plate(\n",
    "        Name='Douglas Fir-Larch',            \n",
    "        width=5.250 * us.inch,\n",
    "        length=9.500 * us.inch,\n",
    "        fcp = 7 * us.MPa)"
   ]
  },
  {
   "cell_type": "code",
   "execution_count": 39,
   "id": "82be4ff0-6ee0-4714-81d6-c290d95bb971",
   "metadata": {},
   "outputs": [
    {
     "name": "stdout",
     "output_type": "stream",
     "text": [
      "0.6505149978319906\n"
     ]
    },
    {
     "data": {
      "text/html": [
       "26.352 kip"
      ],
      "text/latex": [
       "$26.352\\ \\mathrm{kip}$"
      ],
      "text/markdown": [
       "26.352 kip"
      ],
      "text/plain": [
       "26.352 kip"
      ]
     },
     "execution_count": 39,
     "metadata": {},
     "output_type": "execute_result"
    }
   ],
   "source": [
    "d = 100\n",
    "l= 0\n",
    "s = 20 \n",
    "my_brg_pl.factored_bearing_resistance(d, l, s)"
   ]
  },
  {
   "cell_type": "code",
   "execution_count": 83,
   "id": "9cdd1e25-8e6c-4065-be9a-76ee46e91600",
   "metadata": {},
   "outputs": [
    {
     "data": {
      "text/plain": [
       "['D.Fir SS',\n",
       " 'D.Fir No. 1/No. 2',\n",
       " 'D.Fir  No. 3/Stud',\n",
       " 'Hem-Fir L. SS',\n",
       " 'Hem-Fir L. No. 1/No. 2',\n",
       " 'Hem-FirL. No. 3/Stud',\n",
       " 'SPF. SS',\n",
       " 'SPF No. 1/No. 2',\n",
       " 'SPF. No. 3/Stud',\n",
       " 'Northern SS',\n",
       " 'Northern No. 1/No. 2',\n",
       " 'Northern. No. 3/Stud']"
      ]
     },
     "execution_count": 83,
     "metadata": {},
     "output_type": "execute_result"
    }
   ],
   "source": [
    "mat = pd.read_csv('Structural_joists_and_planks_structural light_framing_and_studs_MPa_db.csv')\n",
    "list(mat.loc[:,'Name'])"
   ]
  },
  {
   "cell_type": "code",
   "execution_count": 99,
   "id": "b9e47267-f3b5-48c4-b8be-b6604b0413af",
   "metadata": {},
   "outputs": [],
   "source": [
    "a='3.5x11.875 PSL'"
   ]
  },
  {
   "cell_type": "code",
   "execution_count": 101,
   "id": "e24ebd34-78ef-40b2-965b-25e10a6b291a",
   "metadata": {},
   "outputs": [
    {
     "data": {
      "text/plain": [
       "'3.5x11.875'"
      ]
     },
     "execution_count": 101,
     "metadata": {},
     "output_type": "execute_result"
    }
   ],
   "source": [
    "a.split(' ')[0]"
   ]
  },
  {
   "cell_type": "code",
   "execution_count": null,
   "id": "e85e9db8-6aae-403c-bc4c-2e2d4df5d745",
   "metadata": {},
   "outputs": [],
   "source": []
  }
 ],
 "metadata": {
  "kernelspec": {
   "display_name": "pfse",
   "language": "python",
   "name": "pfse"
  },
  "language_info": {
   "codemirror_mode": {
    "name": "ipython",
    "version": 3
   },
   "file_extension": ".py",
   "mimetype": "text/x-python",
   "name": "python",
   "nbconvert_exporter": "python",
   "pygments_lexer": "ipython3",
   "version": "3.10.12"
  }
 },
 "nbformat": 4,
 "nbformat_minor": 5
}
